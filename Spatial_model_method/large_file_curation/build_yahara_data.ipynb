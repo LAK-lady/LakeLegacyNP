{
 "cells": [
  {
   "cell_type": "code",
   "execution_count": 2,
   "metadata": {},
   "outputs": [],
   "source": [
    "import warnings\n",
    "warnings.filterwarnings('ignore')\n",
    "\n",
    "import pandas as pd\n",
    "import numpy as np\n",
    "import matplotlib.dates as mdates\n",
    "from scipy.stats import iqr\n",
    "import os\n",
    "\n",
    "import matplotlib.pyplot as plt\n",
    "import matplotlib.cm\n",
    "import matplotlib.colors as colors\n",
    "%matplotlib inline\n",
    "from matplotlib.lines import Line2D\n",
    "from matplotlib.patches import Patch\n",
    "\n",
    "import geopandas\n",
    "import geopandas as gpd\n",
    "from geopandas.tools import sjoin\n",
    "\n",
    "from shapely.geometry import Point\n",
    "\n",
    "import datetime\n",
    "\n",
    "from tqdm import tqdm\n",
    "import networkx as nx\n",
    "\n",
    "from HydroGraph_functions import *"
   ]
  },
  {
   "cell_type": "code",
   "execution_count": 5,
   "metadata": {},
   "outputs": [],
   "source": [
    "#TODO: Refactor this and put the correct data in one place\n",
    "\n",
    "WIRivers = pd.read_pickle(\"WIRivers.df\")\n",
    "WILakes  = pd.read_pickle(\"WILakes.df\")\n",
    "WIhuc8   = pd.read_pickle(\"WIHUC8.df\")\n",
    "WIhuc12  = pd.read_pickle(\"WIHUC12.df\")\n",
    "WIhuc10  = pd.read_pickle(\"WIHUC10.df\")\n",
    "WI = gpd.GeoDataFrame.from_file(\"../WI/WI.shp\")\n",
    "WIcatch = pd.read_pickle(\"WICatch.df\")\n",
    "lc = pd.read_pickle(\"Landcover/land_cover.df\")\n",
    "\n",
    "hu = gpd.GeoDataFrame.from_file(\"DaneCountyData/HydrologicUnits.shp\")\n",
    "intdrain = gpd.GeoDataFrame.from_file(\"DaneCountyData/InternallyDrained.shp\")"
   ]
  },
  {
   "cell_type": "code",
   "execution_count": 9,
   "metadata": {},
   "outputs": [],
   "source": [
    "huc10s = [709000205, 709000206]\n",
    "\n",
    "YRivers = WIRivers[WIRivers.huc10.isin(huc10s)].copy(deep = True).reset_index(drop = True)\n",
    "YLakes  = WILakes[WILakes.huc10.isin(huc10s)].copy(deep = True).reset_index(drop = True)\n",
    "Yhuc8   = WIhuc8[WIhuc8.huc8.isin([7090002])].copy(deep = True).reset_index(drop = True)\n",
    "Yhuc10  = WIhuc10[WIhuc10.huc10.isin(huc10s)].copy(deep = True).reset_index(drop = True)\n",
    "Yhuc12  = WIhuc12[WIhuc12.huc10.isin(huc10s)].copy(deep = True).reset_index(drop = True)\n",
    "Ycatch  = WIcatch[WIcatch.huc10.isin(huc10s)].copy(deep = True).reset_index(drop = True)\n",
    "Ylc = lc[lc.huc10.isin(huc10s)].copy(deep = True).reset_index(drop = True)"
   ]
  },
  {
   "cell_type": "code",
   "execution_count": 10,
   "metadata": {},
   "outputs": [],
   "source": [
    "Ylc_3071 = Ylc.to_crs(\"EPSG:3071\")\n",
    "Ylc[\"area_sqkm\"] = Ylc_3071.area / 1e6"
   ]
  },
  {
   "cell_type": "code",
   "execution_count": 11,
   "metadata": {},
   "outputs": [],
   "source": [
    "YRivers.to_pickle(\"../yahara_data/YRivers.df\")\n",
    "YLakes.to_pickle(\"../yahara_data/YLakes.df\")\n",
    "Yhuc8.to_pickle(\"../yahara_data/YHUC8.df\")\n",
    "Yhuc10.to_pickle(\"../yahara_data/YHUC10.df\")\n",
    "Yhuc12.to_pickle(\"../yahara_data/YHUC12.df\")\n",
    "Ycatch.to_pickle(\"../yahara_data/Ycatch.df\")\n",
    "Ylc.to_pickle(\"../yahara_data/Ylc.df\")"
   ]
  },
  {
   "cell_type": "code",
   "execution_count": 12,
   "metadata": {},
   "outputs": [
    {
     "name": "stderr",
     "output_type": "stream",
     "text": [
      "100%|████████████████████████████████████████████████████████████████████████████████| 166/166 [03:04<00:00,  1.11s/it]\n",
      "100%|████████████████████████████████████████████████████████████████████████████████| 166/166 [00:47<00:00,  3.46it/s]\n"
     ]
    }
   ],
   "source": [
    "hu[\"huc12\"] = hu.HUC12.values.astype(float)\n",
    "\n",
    "hu[\"huc10\"] = np.floor(hu.huc12.values / 100)\n",
    "\n",
    "huc10s = [709000205, 709000206]\n",
    "\n",
    "Yhu = hu[hu.huc10.isin(huc10s)]\n",
    "\n",
    "Yhu = Yhu.to_crs(\"EPSG:4326\")\n",
    "\n",
    "Yhu[\"catchment\"] = 0\n",
    "\n",
    "Yhu_catch = pd.DataFrame(columns = Yhu.columns)\n",
    "\n",
    "for i in tqdm(range(len(Ycatch))):\n",
    "    mask = Ycatch.geometry.iloc[i]\n",
    "    \n",
    "    catchment_val = Ycatch.GRIDCODE.iloc[i]\n",
    "    \n",
    "    clipping = gpd.clip(Yhu, mask)\n",
    "    clipping[\"catchment\"] = catchment_val\n",
    "    \n",
    "    Yhu_catch = Yhu_catch.append(clipping)\n",
    "    \n",
    "Yhu_gdf = gpd.GeoDataFrame(Yhu_catch, crs = \"EPSG:4326\").reset_index(drop = True)\n",
    "\n",
    "Yhu_gdf_3071 = Yhu_gdf.to_crs(\"EPSG:3071\")\n",
    "\n",
    "Yhu_gdf[\"area_sqkm\"] = Yhu_gdf_3071.area / 1e6\n",
    "\n",
    "intdrain = intdrain.to_crs(\"EPSG:4326\")\n",
    "\n",
    "intdrain[\"huc12\"] = intdrain.HUC12.values.astype(float)\n",
    "\n",
    "intdrain[\"huc10\"] = np.floor(intdrain.huc12.values / 100).astype(int)\n",
    "\n",
    "Yintdrain = intdrain[intdrain.huc10.isin(huc10s)].copy(deep = True).reset_index(drop = True)\n",
    "\n",
    "Yintdrain[\"catchment\"] = 0\n",
    "\n",
    "Yintdrain_catch = pd.DataFrame(columns = Yintdrain.columns)\n",
    "\n",
    "for i in tqdm(range(len(Ycatch))):\n",
    "    mask = Ycatch.geometry.iloc[i]\n",
    "    \n",
    "    catchment_val = Ycatch.GRIDCODE.iloc[i]\n",
    "    \n",
    "    clipping = gpd.clip(Yintdrain, mask)\n",
    "    clipping[\"catchment\"] = catchment_val\n",
    "    \n",
    "    Yintdrain_catch = Yintdrain_catch.append(clipping)\n",
    "    \n",
    "Yintdrain_gdf = gpd.GeoDataFrame(Yintdrain_catch, crs = \"EPSG:4326\").reset_index(drop = True)    \n",
    "\n",
    "\n",
    "Yintdrain_gdf_3071 = Yintdrain_gdf.to_crs(\"EPSG:3071\")\n",
    "\n",
    "Yintdrain_gdf[\"area_sqkm\"] = Yintdrain_gdf_3071.area / 1e6"
   ]
  },
  {
   "cell_type": "code",
   "execution_count": 13,
   "metadata": {},
   "outputs": [],
   "source": [
    "Yhu_gdf.to_pickle(\"../yahara_data/Yhu.df\")\n",
    "Yintdrain_gdf.to_pickle(\"../yahara_data/Yintdrain.df\")"
   ]
  }
 ],
 "metadata": {
  "kernelspec": {
   "display_name": "Python 3",
   "language": "python",
   "name": "python3"
  },
  "language_info": {
   "codemirror_mode": {
    "name": "ipython",
    "version": 3
   },
   "file_extension": ".py",
   "mimetype": "text/x-python",
   "name": "python",
   "nbconvert_exporter": "python",
   "pygments_lexer": "ipython3",
   "version": "3.8.5"
  }
 },
 "nbformat": 4,
 "nbformat_minor": 4
}
